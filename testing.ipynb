{
 "cells": [
  {
   "cell_type": "code",
   "execution_count": null,
   "id": "effe53a4-b183-4b60-b41f-5ee4b7e05610",
   "metadata": {},
   "outputs": [],
   "source": [
    "import sys, os\n",
    "import pandas as pd\n",
    "# Add parent folder to sys.path\n",
    "sys.path.append(os.path.abspath(\"..\"))\n",
    "\n",
    "from scripts.data_loader import load_all_data"
   ]
  },
  {
   "cell_type": "code",
   "execution_count": null,
   "id": "909d4629-61bc-48a5-a6ee-0a0b5ead051d",
   "metadata": {},
   "outputs": [],
   "source": [
    "from scripts.data_cleaner import (\n",
    "    clean_ip_detail, clean_admission_list, clean_ip_discharge,\n",
    "    clean_opd_detail, clean_op_discharge_df, clean_patient_details,\n",
    "    clean_doctor_master, clean_code_master, clean_marketing_agent_df,\n",
    "    clean_tpa_mapping_df, clean_op_deposit\n",
    ")"
   ]
  },
  {
   "cell_type": "code",
   "execution_count": 2,
   "id": "06dd0fb5-5bb9-44f7-8477-85d4db8f53c4",
   "metadata": {},
   "outputs": [
    {
     "ename": "NameError",
     "evalue": "name 'load_all_data' is not defined",
     "output_type": "error",
     "traceback": [
      "\u001b[31m---------------------------------------------------------------------------\u001b[39m",
      "\u001b[31mNameError\u001b[39m                                 Traceback (most recent call last)",
      "\u001b[36mCell\u001b[39m\u001b[36m \u001b[39m\u001b[32mIn[2]\u001b[39m\u001b[32m, line 1\u001b[39m\n\u001b[32m----> \u001b[39m\u001b[32m1\u001b[39m data = \u001b[43mload_all_data\u001b[49m()\n",
      "\u001b[31mNameError\u001b[39m: name 'load_all_data' is not defined"
     ]
    }
   ],
   "source": [
    "data = load_all_data()"
   ]
  },
  {
   "cell_type": "code",
   "execution_count": 4,
   "id": "e701f800-a364-4841-8e0c-01111b62410e",
   "metadata": {},
   "outputs": [
    {
     "name": "stderr",
     "output_type": "stream",
     "text": [
      "C:\\Fahim\\Surana Hospital\\scripts\\data_cleaner.py:40: UserWarning: Parsing dates in %m/%d/%Y format when dayfirst=True was specified. Pass `dayfirst=False` or specify a format to silence this warning.\n",
      "  df[col] = pd.to_datetime(df[col], dayfirst=True, errors='coerce')\n"
     ]
    },
    {
     "name": "stdout",
     "output_type": "stream",
     "text": [
      "✅ ip_detail_df cleaned successfully\n"
     ]
    }
   ],
   "source": [
    "ip_detail_df = clean_ip_detail(data.get('ip_detail_df'))\n"
   ]
  },
  {
   "cell_type": "code",
   "execution_count": 5,
   "id": "65eb9360-c31a-4532-8a40-57c0b90a4a69",
   "metadata": {},
   "outputs": [
    {
     "name": "stdout",
     "output_type": "stream",
     "text": [
      "✅ patient_details_df cleaned successfully\n"
     ]
    }
   ],
   "source": [
    "patient_detail_df = clean_patient_details(data.get('patient_detail_df'))"
   ]
  },
  {
   "cell_type": "code",
   "execution_count": 6,
   "id": "57cd7660-96f8-46cd-a2d8-c3c2038cdfc6",
   "metadata": {},
   "outputs": [
    {
     "name": "stdout",
     "output_type": "stream",
     "text": [
      "✅ ip_discharge_df cleaned successfully\n"
     ]
    }
   ],
   "source": [
    "ip_discharge_df = clean_ip_discharge(data.get('ip_discharge_df'))"
   ]
  },
  {
   "cell_type": "code",
   "execution_count": 3,
   "id": "a7eb628f-75fa-4466-a95e-96400a0abd0f",
   "metadata": {},
   "outputs": [],
   "source": [
    "from scripts.data_loader import load_all_data\n",
    "import numpy as np\n",
    "from scripts.data_cleaner import (\n",
    "    clean_ip_detail, clean_admission_list, clean_ip_discharge,\n",
    "    clean_opd_detail, clean_op_discharge_df, clean_patient_details,\n",
    "    clean_doctor_master, clean_code_master, clean_marketing_agent_df,\n",
    "    clean_tpa_mapping_df, clean_op_deposit,compute_revenue\n",
    ")\n",
    "import pandas as pd"
   ]
  },
  {
   "cell_type": "code",
   "execution_count": 4,
   "id": "248394de",
   "metadata": {},
   "outputs": [
    {
     "name": "stdout",
     "output_type": "stream",
     "text": [
      "📂 Loading 26 CSV files...\n"
     ]
    },
    {
     "name": "stderr",
     "output_type": "stream",
     "text": [
      "📊 Reading CSVs: 100%|██████████| 26/26 [00:04<00:00,  5.45file/s]\n"
     ]
    },
    {
     "name": "stdout",
     "output_type": "stream",
     "text": [
      "✅ 26 CSV files loaded successfully!\n",
      "Dataframe created: ip_detail_df\n",
      "📂 Loading 11 CSV files...\n"
     ]
    },
    {
     "name": "stderr",
     "output_type": "stream",
     "text": [
      "📊 Reading CSVs: 100%|██████████| 11/11 [00:00<00:00, 58.03file/s]\n"
     ]
    },
    {
     "name": "stdout",
     "output_type": "stream",
     "text": [
      "✅ 11 CSV files loaded successfully!\n",
      "Dataframe created: ip_discharge_df\n",
      "📂 Loading 14 CSV files...\n"
     ]
    },
    {
     "name": "stderr",
     "output_type": "stream",
     "text": [
      "📊 Reading CSVs: 100%|██████████| 14/14 [00:00<00:00, 19.82file/s]\n"
     ]
    },
    {
     "name": "stdout",
     "output_type": "stream",
     "text": [
      "✅ 14 CSV files loaded successfully!\n",
      "Dataframe created: op_detail_df\n",
      "📂 Loading 12 CSV files...\n"
     ]
    },
    {
     "name": "stderr",
     "output_type": "stream",
     "text": [
      "📊 Reading CSVs: 100%|██████████| 12/12 [00:00<00:00, 25.98file/s]\n"
     ]
    },
    {
     "name": "stdout",
     "output_type": "stream",
     "text": [
      "✅ 12 CSV files loaded successfully!\n",
      "Dataframe created: op_discharge_df\n",
      "📂 Loading 11 CSV files...\n"
     ]
    },
    {
     "name": "stderr",
     "output_type": "stream",
     "text": [
      "📊 Reading CSVs: 100%|██████████| 11/11 [00:00<00:00, 43.88file/s]\n"
     ]
    },
    {
     "name": "stdout",
     "output_type": "stream",
     "text": [
      "✅ 11 CSV files loaded successfully!\n",
      "Dataframe created: patient_detail_df\n",
      "📂 Loading 3 CSV files...\n"
     ]
    },
    {
     "name": "stderr",
     "output_type": "stream",
     "text": [
      "📊 Reading CSVs: 100%|██████████| 3/3 [00:00<00:00, 98.87file/s]\n"
     ]
    },
    {
     "name": "stdout",
     "output_type": "stream",
     "text": [
      "✅ 3 CSV files loaded successfully!\n",
      "Dataframe created: op_deposit_df\n",
      "📂 Loading 3 CSV files...\n"
     ]
    },
    {
     "name": "stderr",
     "output_type": "stream",
     "text": [
      "📊 Reading CSVs: 100%|██████████| 3/3 [00:00<00:00, 661.28file/s]\n"
     ]
    },
    {
     "name": "stdout",
     "output_type": "stream",
     "text": [
      "✅ 3 CSV files loaded successfully!\n",
      "Dataframe created: expired_pt\n",
      "📂 Loading 3 CSV files...\n"
     ]
    },
    {
     "name": "stderr",
     "output_type": "stream",
     "text": [
      "📊 Reading CSVs: 100%|██████████| 3/3 [00:00<00:00, 47.82file/s]\n"
     ]
    },
    {
     "name": "stdout",
     "output_type": "stream",
     "text": [
      "✅ 3 CSV files loaded successfully!\n",
      "Dataframe created: admission_list\n",
      "Dataframe created: doctor_master_df\n",
      "Dataframe created: code_master_df\n",
      "Dataframe created: opd_code_master_df\n",
      "Dataframe created: marketing_agent_df\n",
      "Dataframe created: tpa_mapping_df\n",
      "Dataframe created: op_charge_code\n",
      "Dataframe created: tpa_data_df\n",
      "Dataframe created: mjpjay_df\n"
     ]
    }
   ],
   "source": [
    "data = load_all_data()\n",
    "\n",
    "# Extract DataFrames safely\n",
    "ip_detail_df = data.get('ip_detail_df', pd.DataFrame())"
   ]
  },
  {
   "cell_type": "code",
   "execution_count": 6,
   "id": "75a84d93",
   "metadata": {},
   "outputs": [],
   "source": [
    "ip_detail_df.to_csv('ip_detail.csv')"
   ]
  },
  {
   "cell_type": "code",
   "execution_count": 7,
   "id": "627d923c",
   "metadata": {},
   "outputs": [
    {
     "data": {
      "text/plain": [
       "Index(['chrg_cd3', 'chrg_desc2', 'Textbox315', 'Textbox316', 'Textbox317',\n",
       "       'Textbox318', 'Textbox350', 'vch_dt', 'ip_no', 'ptn_name', 'srv_desc',\n",
       "       'no_units', 'ShrDoc1', 'ShrFeeSrc', 'amt', 'shr_cmpnt_amt', 'Textbox44',\n",
       "       'crt_usr', 'rev_dt', 'ptn_no', 'ptn_cls_desc', 'shr_cmpnt_srv_Desc'],\n",
       "      dtype='object')"
      ]
     },
     "execution_count": 7,
     "metadata": {},
     "output_type": "execute_result"
    }
   ],
   "source": [
    "ip_detail_df.columns"
   ]
  },
  {
   "cell_type": "code",
   "execution_count": 8,
   "id": "593aed1d",
   "metadata": {},
   "outputs": [
    {
     "data": {
      "text/plain": [
       "array(['Bed Charges', 'Registration Charges', 'Admission Charges', ...,\n",
       "       'CYSTOSCOPY URS WITH DJ STENTING B/L',\n",
       "       'Preoperative Prophylactic Tumor Embolization',\n",
       "       'Cyst and Tumour Mandible By enucleation /excision'],\n",
       "      shape=(2158,), dtype=object)"
      ]
     },
     "execution_count": 8,
     "metadata": {},
     "output_type": "execute_result"
    }
   ],
   "source": [
    "ip_detail_df['srv_desc'].unique()"
   ]
  },
  {
   "cell_type": "code",
   "execution_count": 12,
   "id": "928822cf",
   "metadata": {},
   "outputs": [],
   "source": [
    "serv_desc = pd.DataFrame(ip_detail_df['srv_desc'].unique(), columns=['srv_desc'])"
   ]
  },
  {
   "cell_type": "code",
   "execution_count": 14,
   "id": "588a3524",
   "metadata": {},
   "outputs": [],
   "source": [
    "# Group by 'srv_desc' and aggregate 'chrg_desc2' into a list of unique values\n",
    "grouped_df = ip_detail_df.groupby('srv_desc')['chrg_desc2'].unique().reset_index()"
   ]
  },
  {
   "cell_type": "code",
   "execution_count": 16,
   "id": "797e35b2",
   "metadata": {},
   "outputs": [],
   "source": [
    "grouped_df.to_csv('new_service.csv')"
   ]
  },
  {
   "cell_type": "code",
   "execution_count": 17,
   "id": "7272fa7d",
   "metadata": {},
   "outputs": [],
   "source": [
    "op_detail_df = data.get('op_detail_df', pd.DataFrame())"
   ]
  },
  {
   "cell_type": "code",
   "execution_count": 18,
   "id": "1b56116b",
   "metadata": {},
   "outputs": [
    {
     "data": {
      "text/plain": [
       "Index(['Textbox46', 'Textbox10', 'Amount', 'Textbox54', 'Textbox55',\n",
       "       'Textbox56', 'Textbox42', 'vch_dt', 'CONSULTATIONTM_FRMTD', 'vch_no',\n",
       "       'ptn_no', 'Textbox23', 'DoctorFullName', 'srv_desc', 'shrsrvnm',\n",
       "       'ShrDoc', 'ShrFeeSrc', 'UNITS1', 'Amount1', 'ConcAmt', 'RefAmt',\n",
       "       'NetAmt', 'Textbox43'],\n",
       "      dtype='object')"
      ]
     },
     "execution_count": 18,
     "metadata": {},
     "output_type": "execute_result"
    }
   ],
   "source": [
    "op_detail_df.columns "
   ]
  },
  {
   "cell_type": "code",
   "execution_count": 19,
   "id": "1ae3ed3f",
   "metadata": {},
   "outputs": [
    {
     "data": {
      "text/html": [
       "<div>\n",
       "<style scoped>\n",
       "    .dataframe tbody tr th:only-of-type {\n",
       "        vertical-align: middle;\n",
       "    }\n",
       "\n",
       "    .dataframe tbody tr th {\n",
       "        vertical-align: top;\n",
       "    }\n",
       "\n",
       "    .dataframe thead th {\n",
       "        text-align: right;\n",
       "    }\n",
       "</style>\n",
       "<table border=\"1\" class=\"dataframe\">\n",
       "  <thead>\n",
       "    <tr style=\"text-align: right;\">\n",
       "      <th></th>\n",
       "      <th>Textbox46</th>\n",
       "      <th>Textbox10</th>\n",
       "      <th>Amount</th>\n",
       "      <th>Textbox54</th>\n",
       "      <th>Textbox55</th>\n",
       "      <th>Textbox56</th>\n",
       "      <th>Textbox42</th>\n",
       "      <th>vch_dt</th>\n",
       "      <th>CONSULTATIONTM_FRMTD</th>\n",
       "      <th>vch_no</th>\n",
       "      <th>...</th>\n",
       "      <th>srv_desc</th>\n",
       "      <th>shrsrvnm</th>\n",
       "      <th>ShrDoc</th>\n",
       "      <th>ShrFeeSrc</th>\n",
       "      <th>UNITS1</th>\n",
       "      <th>Amount1</th>\n",
       "      <th>ConcAmt</th>\n",
       "      <th>RefAmt</th>\n",
       "      <th>NetAmt</th>\n",
       "      <th>Textbox43</th>\n",
       "    </tr>\n",
       "  </thead>\n",
       "  <tbody>\n",
       "    <tr>\n",
       "      <th>0</th>\n",
       "      <td>Chrg Cd  12 : Registration Charges            ...</td>\n",
       "      <td>1904.0</td>\n",
       "      <td>133650.0</td>\n",
       "      <td>9752</td>\n",
       "      <td>-3400.0</td>\n",
       "      <td>130400</td>\n",
       "      <td>0.0</td>\n",
       "      <td>2/02/2018</td>\n",
       "      <td>12:56PM</td>\n",
       "      <td>1084753</td>\n",
       "      <td>...</td>\n",
       "      <td>Opd Registration Charges</td>\n",
       "      <td>NaN</td>\n",
       "      <td>NaN</td>\n",
       "      <td>NaN</td>\n",
       "      <td>1.0</td>\n",
       "      <td>100.0</td>\n",
       "      <td>0</td>\n",
       "      <td>0.0</td>\n",
       "      <td>100</td>\n",
       "      <td>0.0</td>\n",
       "    </tr>\n",
       "    <tr>\n",
       "      <th>1</th>\n",
       "      <td>Chrg Cd  12 : Registration Charges            ...</td>\n",
       "      <td>1904.0</td>\n",
       "      <td>133650.0</td>\n",
       "      <td>9752</td>\n",
       "      <td>-3400.0</td>\n",
       "      <td>130400</td>\n",
       "      <td>0.0</td>\n",
       "      <td>6/02/2018</td>\n",
       "      <td>3:59PM</td>\n",
       "      <td>1084944</td>\n",
       "      <td>...</td>\n",
       "      <td>Opd Registration Charges</td>\n",
       "      <td>NaN</td>\n",
       "      <td>NaN</td>\n",
       "      <td>NaN</td>\n",
       "      <td>1.0</td>\n",
       "      <td>100.0</td>\n",
       "      <td>0</td>\n",
       "      <td>0.0</td>\n",
       "      <td>100</td>\n",
       "      <td>0.0</td>\n",
       "    </tr>\n",
       "    <tr>\n",
       "      <th>2</th>\n",
       "      <td>Chrg Cd  12 : Registration Charges            ...</td>\n",
       "      <td>1904.0</td>\n",
       "      <td>133650.0</td>\n",
       "      <td>9752</td>\n",
       "      <td>-3400.0</td>\n",
       "      <td>130400</td>\n",
       "      <td>0.0</td>\n",
       "      <td>7/02/2018</td>\n",
       "      <td>11:07AM</td>\n",
       "      <td>1084963</td>\n",
       "      <td>...</td>\n",
       "      <td>Opd Registration Charges</td>\n",
       "      <td>NaN</td>\n",
       "      <td>NaN</td>\n",
       "      <td>NaN</td>\n",
       "      <td>1.0</td>\n",
       "      <td>100.0</td>\n",
       "      <td>0</td>\n",
       "      <td>0.0</td>\n",
       "      <td>100</td>\n",
       "      <td>0.0</td>\n",
       "    </tr>\n",
       "    <tr>\n",
       "      <th>3</th>\n",
       "      <td>Chrg Cd  12 : Registration Charges            ...</td>\n",
       "      <td>1904.0</td>\n",
       "      <td>133650.0</td>\n",
       "      <td>9752</td>\n",
       "      <td>-3400.0</td>\n",
       "      <td>130400</td>\n",
       "      <td>0.0</td>\n",
       "      <td>7/02/2018</td>\n",
       "      <td>11:52AM</td>\n",
       "      <td>1084969</td>\n",
       "      <td>...</td>\n",
       "      <td>Opd Registration Charges</td>\n",
       "      <td>NaN</td>\n",
       "      <td>NaN</td>\n",
       "      <td>NaN</td>\n",
       "      <td>1.0</td>\n",
       "      <td>100.0</td>\n",
       "      <td>0</td>\n",
       "      <td>0.0</td>\n",
       "      <td>100</td>\n",
       "      <td>0.0</td>\n",
       "    </tr>\n",
       "    <tr>\n",
       "      <th>4</th>\n",
       "      <td>Chrg Cd  12 : Registration Charges            ...</td>\n",
       "      <td>1904.0</td>\n",
       "      <td>133650.0</td>\n",
       "      <td>9752</td>\n",
       "      <td>-3400.0</td>\n",
       "      <td>130400</td>\n",
       "      <td>0.0</td>\n",
       "      <td>7/02/2018</td>\n",
       "      <td>11:54AM</td>\n",
       "      <td>1084970</td>\n",
       "      <td>...</td>\n",
       "      <td>Opd Registration Charges</td>\n",
       "      <td>NaN</td>\n",
       "      <td>NaN</td>\n",
       "      <td>NaN</td>\n",
       "      <td>1.0</td>\n",
       "      <td>100.0</td>\n",
       "      <td>0</td>\n",
       "      <td>0.0</td>\n",
       "      <td>100</td>\n",
       "      <td>0.0</td>\n",
       "    </tr>\n",
       "  </tbody>\n",
       "</table>\n",
       "<p>5 rows × 23 columns</p>\n",
       "</div>"
      ],
      "text/plain": [
       "                                           Textbox46  Textbox10    Amount  \\\n",
       "0  Chrg Cd  12 : Registration Charges            ...     1904.0  133650.0   \n",
       "1  Chrg Cd  12 : Registration Charges            ...     1904.0  133650.0   \n",
       "2  Chrg Cd  12 : Registration Charges            ...     1904.0  133650.0   \n",
       "3  Chrg Cd  12 : Registration Charges            ...     1904.0  133650.0   \n",
       "4  Chrg Cd  12 : Registration Charges            ...     1904.0  133650.0   \n",
       "\n",
       "   Textbox54  Textbox55  Textbox56  Textbox42     vch_dt CONSULTATIONTM_FRMTD  \\\n",
       "0       9752    -3400.0     130400        0.0  2/02/2018              12:56PM   \n",
       "1       9752    -3400.0     130400        0.0  6/02/2018               3:59PM   \n",
       "2       9752    -3400.0     130400        0.0  7/02/2018              11:07AM   \n",
       "3       9752    -3400.0     130400        0.0  7/02/2018              11:52AM   \n",
       "4       9752    -3400.0     130400        0.0  7/02/2018              11:54AM   \n",
       "\n",
       "    vch_no  ...                  srv_desc shrsrvnm ShrDoc ShrFeeSrc UNITS1  \\\n",
       "0  1084753  ...  Opd Registration Charges      NaN    NaN       NaN    1.0   \n",
       "1  1084944  ...  Opd Registration Charges      NaN    NaN       NaN    1.0   \n",
       "2  1084963  ...  Opd Registration Charges      NaN    NaN       NaN    1.0   \n",
       "3  1084969  ...  Opd Registration Charges      NaN    NaN       NaN    1.0   \n",
       "4  1084970  ...  Opd Registration Charges      NaN    NaN       NaN    1.0   \n",
       "\n",
       "  Amount1 ConcAmt  RefAmt  NetAmt  Textbox43  \n",
       "0   100.0       0     0.0     100        0.0  \n",
       "1   100.0       0     0.0     100        0.0  \n",
       "2   100.0       0     0.0     100        0.0  \n",
       "3   100.0       0     0.0     100        0.0  \n",
       "4   100.0       0     0.0     100        0.0  \n",
       "\n",
       "[5 rows x 23 columns]"
      ]
     },
     "execution_count": 19,
     "metadata": {},
     "output_type": "execute_result"
    }
   ],
   "source": [
    "op_detail_df.head()"
   ]
  },
  {
   "cell_type": "code",
   "execution_count": null,
   "id": "35382007",
   "metadata": {},
   "outputs": [],
   "source": []
  }
 ],
 "metadata": {
  "kernelspec": {
   "display_name": "venv",
   "language": "python",
   "name": "python3"
  },
  "language_info": {
   "codemirror_mode": {
    "name": "ipython",
    "version": 3
   },
   "file_extension": ".py",
   "mimetype": "text/x-python",
   "name": "python",
   "nbconvert_exporter": "python",
   "pygments_lexer": "ipython3",
   "version": "3.13.5"
  }
 },
 "nbformat": 4,
 "nbformat_minor": 5
}
